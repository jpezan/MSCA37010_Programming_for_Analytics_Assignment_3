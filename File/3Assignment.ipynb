{
 "cells": [
  {
   "cell_type": "markdown",
   "id": "4ff9ca51-82da-488c-832e-123ba4c3d4c0",
   "metadata": {},
   "source": [
    "# Assignment 3"
   ]
  },
  {
   "cell_type": "markdown",
   "id": "ba229647-6f74-4469-b1ce-f4f531efdbbb",
   "metadata": {},
   "source": [
    "##### Course: Programming for Analytics (MSCA 31012)\n",
    "##### Date: 10/29/2021\n",
    "##### Author: Jacqueline Pezan\n",
    "##### Dataset: https://en.wikipedia.org/wiki/Iris_flower_data_set\n",
    "##### Additional Resources: https://scikit-learn.org/stable/modules/generated/sklearn.tree.DecisionTreeClassifier.html"
   ]
  },
  {
   "cell_type": "markdown",
   "id": "02e7ddca-8020-4102-8d51-a599f82adaf8",
   "metadata": {},
   "source": [
    "Your task is to optimize this model so it produces better predictions. A common technique is to do 'hyper parameter optimization.' Scikit-learn has methods built in to do this (see `GridSearchCV` and `RandomSearchCV`). However, in order to learn about loops, we will do this ourselves.\n",
    "\n",
    "Try different values for the following parameters:\n",
    "- criterion: 'entropy' and 'gini'\n",
    "- max_depth: betwen 1 and 10\n",
    "- min_samples_split: between 2 and 5\n",
    "\n",
    "You are welcome to try optimizations beyond these values, but the list above is the minimunm required for this assignment.\n",
    "\n",
    "Find the best set of parameters and have your program return them, along with the score.\n",
    "\n",
    "If you reach accuracy of 1 (perfect prediction), stop searching and show the parameters.\n",
    "\n",
    "You are expected to write a program to solve this optimization problem. You may not cust and paste the model training code for each test (that's A LOT of cutting and pasting). You may also not manually run the code many times where you manually try different values."
   ]
  },
  {
   "cell_type": "markdown",
   "id": "69f41282-4446-47ac-a2b0-91b896b4430c",
   "metadata": {},
   "source": [
    "### Hints\n",
    "\n",
    "You will need to train this model and score it multiple times (once for each set of parameters you are testing). Think in terms of loops (perhaps multiple nested loops).\n",
    "\n",
    "You will also need to keep track of all three parameters and the score. Make sure you don't accidentally overwrite variables inside the loops.\n",
    "\n",
    "Somehow, you will need to compare the current score with the best score you have achieved so far. If the current score is better than what you have already achieved, you should update the score, and the associated variables.\n",
    "\n",
    "At the end of your program, print the best score and the associated variables."
   ]
  },
  {
   "cell_type": "code",
   "execution_count": 4,
   "id": "a4d314d1-8957-491a-b33b-2e1722aac748",
   "metadata": {},
   "outputs": [],
   "source": [
    "from sklearn import datasets\n",
    "from sklearn.model_selection import train_test_split\n",
    "from sklearn.tree import DecisionTreeClassifier"
   ]
  },
  {
   "cell_type": "markdown",
   "id": "9d002735-9072-452b-8a2b-428421d7d4b3",
   "metadata": {},
   "source": [
    "### Load the `iris` data set\n",
    "This is a  very popular data set. Due to its simplicity, it is used in many text books.\n",
    "\n",
    "This link provides a good description: https://en.wikipedia.org/wiki/Iris_flower_data_set"
   ]
  },
  {
   "cell_type": "code",
   "execution_count": 5,
   "id": "acdb6c6b-4179-435c-99ec-64564b67a232",
   "metadata": {},
   "outputs": [],
   "source": [
    "data_df = datasets.load_iris()"
   ]
  },
  {
   "cell_type": "code",
   "execution_count": 6,
   "id": "4cfeb24c-792b-4004-991c-bf4da8aeda26",
   "metadata": {},
   "outputs": [],
   "source": [
    "#print(data_df.DESCR) #uncomment this to get a quick description"
   ]
  },
  {
   "cell_type": "code",
   "execution_count": 7,
   "id": "ab5b4712-2790-4cd8-9f98-64616fb594a5",
   "metadata": {},
   "outputs": [
    {
     "data": {
      "text/plain": [
       "['sepal length (cm)',\n",
       " 'sepal width (cm)',\n",
       " 'petal length (cm)',\n",
       " 'petal width (cm)']"
      ]
     },
     "execution_count": 7,
     "metadata": {},
     "output_type": "execute_result"
    }
   ],
   "source": [
    "data_df.feature_names"
   ]
  },
  {
   "cell_type": "code",
   "execution_count": 8,
   "id": "a5680b69-c75f-4d10-8c5b-fce377e472d7",
   "metadata": {},
   "outputs": [
    {
     "data": {
      "text/plain": [
       "array(['setosa', 'versicolor', 'virginica'], dtype='<U10')"
      ]
     },
     "execution_count": 8,
     "metadata": {},
     "output_type": "execute_result"
    }
   ],
   "source": [
    "data_df.target_names"
   ]
  },
  {
   "cell_type": "markdown",
   "id": "0671cddb-3bf0-4871-94d6-cbd3099dcbab",
   "metadata": {},
   "source": [
    "### Extract input (X) and output(y) variables"
   ]
  },
  {
   "cell_type": "code",
   "execution_count": 9,
   "id": "fd2830cf-cadc-431a-a487-e82eb08840fb",
   "metadata": {},
   "outputs": [],
   "source": [
    "X = data_df.data\n",
    "y = data_df.target\n",
    "#X\n",
    "#y"
   ]
  },
  {
   "cell_type": "markdown",
   "id": "943b6995-c9ee-4137-a84f-20156485891c",
   "metadata": {},
   "source": [
    "Take a look at the first ten rows of X"
   ]
  },
  {
   "cell_type": "code",
   "execution_count": 10,
   "id": "8c9132a6-b316-40b4-b36e-0920d686102c",
   "metadata": {},
   "outputs": [
    {
     "data": {
      "text/plain": [
       "array([[5.1, 3.5, 1.4, 0.2],\n",
       "       [4.9, 3. , 1.4, 0.2],\n",
       "       [4.7, 3.2, 1.3, 0.2],\n",
       "       [4.6, 3.1, 1.5, 0.2],\n",
       "       [5. , 3.6, 1.4, 0.2],\n",
       "       [5.4, 3.9, 1.7, 0.4],\n",
       "       [4.6, 3.4, 1.4, 0.3],\n",
       "       [5. , 3.4, 1.5, 0.2],\n",
       "       [4.4, 2.9, 1.4, 0.2],\n",
       "       [4.9, 3.1, 1.5, 0.1]])"
      ]
     },
     "execution_count": 10,
     "metadata": {},
     "output_type": "execute_result"
    }
   ],
   "source": [
    "X[:10,]"
   ]
  },
  {
   "cell_type": "markdown",
   "id": "ea440174-be6f-417f-8ade-74f54bc4b41e",
   "metadata": {},
   "source": [
    "Take a look at the first ten rows of y"
   ]
  },
  {
   "cell_type": "code",
   "execution_count": 11,
   "id": "181381d4-af15-4308-abb6-1b6367d09d31",
   "metadata": {},
   "outputs": [
    {
     "data": {
      "text/plain": [
       "array([0, 0, 0, 0, 0, 0, 0, 0, 0, 0])"
      ]
     },
     "execution_count": 11,
     "metadata": {},
     "output_type": "execute_result"
    }
   ],
   "source": [
    "y[:10,]"
   ]
  },
  {
   "cell_type": "markdown",
   "id": "449745ad-fe3a-4237-8620-1a57cfabdf33",
   "metadata": {},
   "source": [
    "Total number of observations"
   ]
  },
  {
   "cell_type": "code",
   "execution_count": 12,
   "id": "a0b7fae7-ae11-4166-bd24-219dbb9e47f1",
   "metadata": {},
   "outputs": [
    {
     "data": {
      "text/plain": [
       "150"
      ]
     },
     "execution_count": 12,
     "metadata": {},
     "output_type": "execute_result"
    }
   ],
   "source": [
    "len(X)"
   ]
  },
  {
   "cell_type": "markdown",
   "id": "4d24960c-6cb6-4db4-8922-e816a67dd24c",
   "metadata": {},
   "source": [
    "### Separate the data into the part we will use for training and the part we will use for testing\n",
    "\n",
    "The testing data is hidden during training time. Otherwise the model could just _memorize_ all the data and look up the answer when you ask for a prediction. This model will be perfect, except when you give it data it hasn't seen before."
   ]
  },
  {
   "cell_type": "code",
   "execution_count": 13,
   "id": "e99d3842-6efe-4a29-b129-d3aede6063fd",
   "metadata": {},
   "outputs": [],
   "source": [
    "X_train, X_test, y_train, y_test = train_test_split(X, y, test_size=0.10)"
   ]
  },
  {
   "cell_type": "code",
   "execution_count": 14,
   "id": "76e4168e-d916-469d-8551-46565ea152b8",
   "metadata": {},
   "outputs": [
    {
     "data": {
      "text/plain": [
       "(135, 15, 135, 15)"
      ]
     },
     "execution_count": 14,
     "metadata": {},
     "output_type": "execute_result"
    }
   ],
   "source": [
    "len(X_train), len(X_test), len(y_train), len(y_test)"
   ]
  },
  {
   "cell_type": "markdown",
   "id": "caa8b347-b326-4763-b943-3eedb1657838",
   "metadata": {},
   "source": [
    "### Build a model to predict the flower from the measurements of its petals"
   ]
  },
  {
   "cell_type": "markdown",
   "id": "492b6b24-9ac5-4be0-9ce4-99612c1aef3f",
   "metadata": {},
   "source": [
    "Entropy index measures groups of classes that make up about 50% of the data."
   ]
  },
  {
   "cell_type": "code",
   "execution_count": 15,
   "id": "5d0f101c-f980-454f-9453-56b94aa48ec1",
   "metadata": {},
   "outputs": [
    {
     "name": "stdout",
     "output_type": "stream",
     "text": [
      "CPU times: user 1.32 ms, sys: 1.62 ms, total: 2.94 ms\n",
      "Wall time: 5.27 ms\n"
     ]
    },
    {
     "data": {
      "text/plain": [
       "DecisionTreeClassifier(criterion='entropy', max_depth=1)"
      ]
     },
     "execution_count": 15,
     "metadata": {},
     "output_type": "execute_result"
    }
   ],
   "source": [
    "%%time\n",
    "\n",
    "model = DecisionTreeClassifier(criterion='entropy', max_depth=1, min_samples_split=2)\n",
    "model.fit(X_train, y_train)"
   ]
  },
  {
   "cell_type": "markdown",
   "id": "090a238c-b1b3-4d1e-a70a-ba051dc89638",
   "metadata": {},
   "source": [
    "### Test the accuracy of your model (the closer it is to 1, the better it is)"
   ]
  },
  {
   "cell_type": "code",
   "execution_count": 16,
   "id": "c3e7a423-2022-4bc0-b4b2-62eb42a54670",
   "metadata": {},
   "outputs": [
    {
     "data": {
      "text/plain": [
       "0.5333333333333333"
      ]
     },
     "execution_count": 16,
     "metadata": {},
     "output_type": "execute_result"
    }
   ],
   "source": [
    "model.score(X_test, y_test)"
   ]
  },
  {
   "cell_type": "markdown",
   "id": "8f47a6b8-00fa-4bcf-8704-1e4956dc1eac",
   "metadata": {},
   "source": [
    "## MODEL 1 - Gini"
   ]
  },
  {
   "cell_type": "markdown",
   "id": "fb65c04b-cf23-4bae-a2db-2140dd59aaef",
   "metadata": {},
   "source": [
    "Gini index measures the degree or probability of a particular variable being wrongly classified when it is randomly chosen."
   ]
  },
  {
   "cell_type": "code",
   "execution_count": 17,
   "id": "c9c28ae0-387a-4937-a0e8-8c7234d78483",
   "metadata": {},
   "outputs": [
    {
     "name": "stdout",
     "output_type": "stream",
     "text": [
      "CPU times: user 813 µs, sys: 264 µs, total: 1.08 ms\n",
      "Wall time: 869 µs\n"
     ]
    },
    {
     "data": {
      "text/plain": [
       "DecisionTreeClassifier(max_depth=1)"
      ]
     },
     "execution_count": 17,
     "metadata": {},
     "output_type": "execute_result"
    }
   ],
   "source": [
    "%%time\n",
    "\n",
    "model = DecisionTreeClassifier(criterion='gini', max_depth=1, min_samples_split=2)\n",
    "model.fit(X_train, y_train)"
   ]
  },
  {
   "cell_type": "code",
   "execution_count": 18,
   "id": "ffe70509-a376-4e68-a282-f855c615296d",
   "metadata": {},
   "outputs": [
    {
     "data": {
      "text/plain": [
       "0.5333333333333333"
      ]
     },
     "execution_count": 18,
     "metadata": {},
     "output_type": "execute_result"
    }
   ],
   "source": [
    "model.score(X_test, y_test)"
   ]
  },
  {
   "cell_type": "markdown",
   "id": "f9cd19f5-b3ae-4c8f-b8b1-e3aa95c919e0",
   "metadata": {},
   "source": [
    "#### Observations: Both gini and entorpy  measure the quality of a split. Gini is intended for continuous attributes, and Entropy for attributes that occur in classes which is why gini is better suited for this model"
   ]
  },
  {
   "cell_type": "markdown",
   "id": "98de5f92-d8fe-41e3-977a-90ccb9d5e544",
   "metadata": {},
   "source": [
    "## MODEL 2 - Max Depth"
   ]
  },
  {
   "cell_type": "markdown",
   "id": "4158cd91-272a-4f97-abbe-811e94a49a90",
   "metadata": {},
   "source": [
    "Maximum depth refers to the the length of the longest path from a root to a leaf."
   ]
  },
  {
   "cell_type": "markdown",
   "id": "44bf1524-8703-4c8e-8e6b-9e97655211ee",
   "metadata": {},
   "source": [
    "#### Max Depth = 0.1"
   ]
  },
  {
   "cell_type": "code",
   "execution_count": 19,
   "id": "47441c31-3e29-4b7f-96c1-e6c0b5f8065e",
   "metadata": {},
   "outputs": [
    {
     "name": "stdout",
     "output_type": "stream",
     "text": [
      "CPU times: user 738 µs, sys: 151 µs, total: 889 µs\n",
      "Wall time: 786 µs\n"
     ]
    },
    {
     "data": {
      "text/plain": [
       "DecisionTreeClassifier(max_depth=0.1)"
      ]
     },
     "execution_count": 19,
     "metadata": {},
     "output_type": "execute_result"
    }
   ],
   "source": [
    "%%time\n",
    "\n",
    "model = DecisionTreeClassifier(criterion='gini', max_depth=0.1, min_samples_split=2)\n",
    "model.fit(X_train, y_train)"
   ]
  },
  {
   "cell_type": "code",
   "execution_count": 20,
   "id": "198595c4-89e6-406d-84dc-cbc0e5806921",
   "metadata": {},
   "outputs": [
    {
     "data": {
      "text/plain": [
       "0.13333333333333333"
      ]
     },
     "execution_count": 20,
     "metadata": {},
     "output_type": "execute_result"
    }
   ],
   "source": [
    "model.score(X_test, y_test)"
   ]
  },
  {
   "cell_type": "markdown",
   "id": "2ecaa9f4-40a5-47cf-bf80-32969082ffda",
   "metadata": {},
   "source": [
    "#### Max Depth = 10"
   ]
  },
  {
   "cell_type": "code",
   "execution_count": 21,
   "id": "b174aba7-f731-4914-a71d-36b11b8e795c",
   "metadata": {},
   "outputs": [
    {
     "name": "stdout",
     "output_type": "stream",
     "text": [
      "CPU times: user 1.28 ms, sys: 968 µs, total: 2.25 ms\n",
      "Wall time: 1.42 ms\n"
     ]
    },
    {
     "data": {
      "text/plain": [
       "DecisionTreeClassifier(max_depth=10)"
      ]
     },
     "execution_count": 21,
     "metadata": {},
     "output_type": "execute_result"
    }
   ],
   "source": [
    "%%time\n",
    "\n",
    "model = DecisionTreeClassifier(criterion='gini', max_depth=10, min_samples_split=2)\n",
    "model.fit(X_train, y_train)"
   ]
  },
  {
   "cell_type": "code",
   "execution_count": 22,
   "id": "1ad66e26-c088-4a8b-af96-4c6cb6b111be",
   "metadata": {},
   "outputs": [
    {
     "data": {
      "text/plain": [
       "1.0"
      ]
     },
     "execution_count": 22,
     "metadata": {},
     "output_type": "execute_result"
    }
   ],
   "source": [
    "model.score(X_test, y_test)"
   ]
  },
  {
   "cell_type": "markdown",
   "id": "2b25dd49-cbb2-4489-848e-bcc838a0a0ce",
   "metadata": {},
   "source": [
    "#### Observations: Increase in max depth leads to higher model score"
   ]
  },
  {
   "cell_type": "markdown",
   "id": "095efa42-287a-408c-8dcb-367f21c5fc62",
   "metadata": {},
   "source": [
    "## MODEL 3 - Min Samples Split"
   ]
  },
  {
   "cell_type": "markdown",
   "id": "63e6e342-f8fa-4063-8c4a-8a83ad805711",
   "metadata": {},
   "source": [
    "min_samples_split refers to the the minimum number of samples required to split an internal node"
   ]
  },
  {
   "cell_type": "markdown",
   "id": "64b113e3-587f-48f1-a1f4-abcf4b9b561c",
   "metadata": {},
   "source": [
    "#### Min_samples_split = 2"
   ]
  },
  {
   "cell_type": "code",
   "execution_count": 23,
   "id": "c0d5fdb7-2489-4420-aaff-4962adc8b607",
   "metadata": {},
   "outputs": [
    {
     "name": "stdout",
     "output_type": "stream",
     "text": [
      "CPU times: user 1.13 ms, sys: 784 µs, total: 1.91 ms\n",
      "Wall time: 1.21 ms\n"
     ]
    },
    {
     "data": {
      "text/plain": [
       "DecisionTreeClassifier(max_depth=10)"
      ]
     },
     "execution_count": 23,
     "metadata": {},
     "output_type": "execute_result"
    }
   ],
   "source": [
    "%%time\n",
    "\n",
    "model = DecisionTreeClassifier(criterion='gini', max_depth=10, min_samples_split=2)\n",
    "model.fit(X_train, y_train)"
   ]
  },
  {
   "cell_type": "code",
   "execution_count": 24,
   "id": "d4750057-900b-4213-8cd9-6e776df8a195",
   "metadata": {},
   "outputs": [
    {
     "data": {
      "text/plain": [
       "1.0"
      ]
     },
     "execution_count": 24,
     "metadata": {},
     "output_type": "execute_result"
    }
   ],
   "source": [
    "model.score(X_test, y_test)"
   ]
  },
  {
   "cell_type": "code",
   "execution_count": 25,
   "id": "3d6149d7-cb53-41fe-ba11-04f9bab6d974",
   "metadata": {},
   "outputs": [
    {
     "name": "stdout",
     "output_type": "stream",
     "text": [
      "CPU times: user 1.25 ms, sys: 828 µs, total: 2.08 ms\n",
      "Wall time: 1.46 ms\n"
     ]
    },
    {
     "data": {
      "text/plain": [
       "DecisionTreeClassifier(max_depth=10, min_samples_split=5)"
      ]
     },
     "execution_count": 25,
     "metadata": {},
     "output_type": "execute_result"
    }
   ],
   "source": [
    "%%time\n",
    "\n",
    "model = DecisionTreeClassifier(criterion='gini', max_depth=10, min_samples_split=5)\n",
    "model.fit(X_train, y_train)"
   ]
  },
  {
   "cell_type": "code",
   "execution_count": 26,
   "id": "fffb0bad-9d70-4a65-add7-b39357fd61e2",
   "metadata": {},
   "outputs": [
    {
     "data": {
      "text/plain": [
       "1.0"
      ]
     },
     "execution_count": 26,
     "metadata": {},
     "output_type": "execute_result"
    }
   ],
   "source": [
    "model.score(X_test, y_test)"
   ]
  },
  {
   "cell_type": "markdown",
   "id": "83af21c5-91c4-4f1e-a6a6-00c4dd14632b",
   "metadata": {},
   "source": [
    "#### Observations: This model requires a greater of samples to split the internal node. \n",
    "#### Note: Line [90] shows score of optimized model givenbasic parameters"
   ]
  },
  {
   "cell_type": "markdown",
   "id": "2474e811-c165-406b-bd37-2b1604ab34fe",
   "metadata": {},
   "source": [
    "## MODEL 4 - Optimized Model Species Prediction"
   ]
  },
  {
   "cell_type": "code",
   "execution_count": 27,
   "id": "3273bd06-8cb6-4cf8-83ff-44f33a80668d",
   "metadata": {},
   "outputs": [],
   "source": [
    "import numpy as np\n",
    "import pandas as pd\n",
    "import seaborn as sns\n",
    "import matplotlib.pyplot as plt\n",
    "import sklearn.datasets\n",
    "from sklearn.linear_model import LinearRegression\n",
    "from sklearn.metrics import mean_squared_error\n",
    "%matplotlib inline"
   ]
  },
  {
   "cell_type": "code",
   "execution_count": 28,
   "id": "3e14c2ae-c07c-476e-9140-d493d69bed6a",
   "metadata": {},
   "outputs": [
    {
     "data": {
      "text/html": [
       "<div>\n",
       "<style scoped>\n",
       "    .dataframe tbody tr th:only-of-type {\n",
       "        vertical-align: middle;\n",
       "    }\n",
       "\n",
       "    .dataframe tbody tr th {\n",
       "        vertical-align: top;\n",
       "    }\n",
       "\n",
       "    .dataframe thead th {\n",
       "        text-align: right;\n",
       "    }\n",
       "</style>\n",
       "<table border=\"1\" class=\"dataframe\">\n",
       "  <thead>\n",
       "    <tr style=\"text-align: right;\">\n",
       "      <th></th>\n",
       "      <th>sepal length (cm)</th>\n",
       "      <th>sepal width (cm)</th>\n",
       "      <th>petal length (cm)</th>\n",
       "      <th>petal width (cm)</th>\n",
       "    </tr>\n",
       "  </thead>\n",
       "  <tbody>\n",
       "    <tr>\n",
       "      <th>0</th>\n",
       "      <td>5.1</td>\n",
       "      <td>3.5</td>\n",
       "      <td>1.4</td>\n",
       "      <td>0.2</td>\n",
       "    </tr>\n",
       "    <tr>\n",
       "      <th>1</th>\n",
       "      <td>4.9</td>\n",
       "      <td>3.0</td>\n",
       "      <td>1.4</td>\n",
       "      <td>0.2</td>\n",
       "    </tr>\n",
       "    <tr>\n",
       "      <th>2</th>\n",
       "      <td>4.7</td>\n",
       "      <td>3.2</td>\n",
       "      <td>1.3</td>\n",
       "      <td>0.2</td>\n",
       "    </tr>\n",
       "    <tr>\n",
       "      <th>3</th>\n",
       "      <td>4.6</td>\n",
       "      <td>3.1</td>\n",
       "      <td>1.5</td>\n",
       "      <td>0.2</td>\n",
       "    </tr>\n",
       "    <tr>\n",
       "      <th>4</th>\n",
       "      <td>5.0</td>\n",
       "      <td>3.6</td>\n",
       "      <td>1.4</td>\n",
       "      <td>0.2</td>\n",
       "    </tr>\n",
       "    <tr>\n",
       "      <th>...</th>\n",
       "      <td>...</td>\n",
       "      <td>...</td>\n",
       "      <td>...</td>\n",
       "      <td>...</td>\n",
       "    </tr>\n",
       "    <tr>\n",
       "      <th>145</th>\n",
       "      <td>6.7</td>\n",
       "      <td>3.0</td>\n",
       "      <td>5.2</td>\n",
       "      <td>2.3</td>\n",
       "    </tr>\n",
       "    <tr>\n",
       "      <th>146</th>\n",
       "      <td>6.3</td>\n",
       "      <td>2.5</td>\n",
       "      <td>5.0</td>\n",
       "      <td>1.9</td>\n",
       "    </tr>\n",
       "    <tr>\n",
       "      <th>147</th>\n",
       "      <td>6.5</td>\n",
       "      <td>3.0</td>\n",
       "      <td>5.2</td>\n",
       "      <td>2.0</td>\n",
       "    </tr>\n",
       "    <tr>\n",
       "      <th>148</th>\n",
       "      <td>6.2</td>\n",
       "      <td>3.4</td>\n",
       "      <td>5.4</td>\n",
       "      <td>2.3</td>\n",
       "    </tr>\n",
       "    <tr>\n",
       "      <th>149</th>\n",
       "      <td>5.9</td>\n",
       "      <td>3.0</td>\n",
       "      <td>5.1</td>\n",
       "      <td>1.8</td>\n",
       "    </tr>\n",
       "  </tbody>\n",
       "</table>\n",
       "<p>150 rows × 4 columns</p>\n",
       "</div>"
      ],
      "text/plain": [
       "     sepal length (cm)  sepal width (cm)  petal length (cm)  petal width (cm)\n",
       "0                  5.1               3.5                1.4               0.2\n",
       "1                  4.9               3.0                1.4               0.2\n",
       "2                  4.7               3.2                1.3               0.2\n",
       "3                  4.6               3.1                1.5               0.2\n",
       "4                  5.0               3.6                1.4               0.2\n",
       "..                 ...               ...                ...               ...\n",
       "145                6.7               3.0                5.2               2.3\n",
       "146                6.3               2.5                5.0               1.9\n",
       "147                6.5               3.0                5.2               2.0\n",
       "148                6.2               3.4                5.4               2.3\n",
       "149                5.9               3.0                5.1               1.8\n",
       "\n",
       "[150 rows x 4 columns]"
      ]
     },
     "execution_count": 28,
     "metadata": {},
     "output_type": "execute_result"
    }
   ],
   "source": [
    "# Reload Data\n",
    "from sklearn.datasets import load_iris\n",
    "data_df = datasets.load_iris()\n",
    "\n",
    "# Rename DF\n",
    "petal_df = pd.DataFrame(data= data_df.data, columns= data_df.feature_names)\n",
    "petal_df"
   ]
  },
  {
   "cell_type": "code",
   "execution_count": 29,
   "id": "ccbeff47-fa53-40a9-bbc7-44d7972f29ba",
   "metadata": {},
   "outputs": [
    {
     "data": {
      "text/html": [
       "<div>\n",
       "<style scoped>\n",
       "    .dataframe tbody tr th:only-of-type {\n",
       "        vertical-align: middle;\n",
       "    }\n",
       "\n",
       "    .dataframe tbody tr th {\n",
       "        vertical-align: top;\n",
       "    }\n",
       "\n",
       "    .dataframe thead th {\n",
       "        text-align: right;\n",
       "    }\n",
       "</style>\n",
       "<table border=\"1\" class=\"dataframe\">\n",
       "  <thead>\n",
       "    <tr style=\"text-align: right;\">\n",
       "      <th></th>\n",
       "      <th>sepal length (cm)</th>\n",
       "      <th>sepal width (cm)</th>\n",
       "      <th>petal length (cm)</th>\n",
       "      <th>petal width (cm)</th>\n",
       "    </tr>\n",
       "  </thead>\n",
       "  <tbody>\n",
       "    <tr>\n",
       "      <th>count</th>\n",
       "      <td>150.000000</td>\n",
       "      <td>150.000000</td>\n",
       "      <td>150.000000</td>\n",
       "      <td>150.000000</td>\n",
       "    </tr>\n",
       "    <tr>\n",
       "      <th>mean</th>\n",
       "      <td>5.843333</td>\n",
       "      <td>3.057333</td>\n",
       "      <td>3.758000</td>\n",
       "      <td>1.199333</td>\n",
       "    </tr>\n",
       "    <tr>\n",
       "      <th>std</th>\n",
       "      <td>0.828066</td>\n",
       "      <td>0.435866</td>\n",
       "      <td>1.765298</td>\n",
       "      <td>0.762238</td>\n",
       "    </tr>\n",
       "    <tr>\n",
       "      <th>min</th>\n",
       "      <td>4.300000</td>\n",
       "      <td>2.000000</td>\n",
       "      <td>1.000000</td>\n",
       "      <td>0.100000</td>\n",
       "    </tr>\n",
       "    <tr>\n",
       "      <th>25%</th>\n",
       "      <td>5.100000</td>\n",
       "      <td>2.800000</td>\n",
       "      <td>1.600000</td>\n",
       "      <td>0.300000</td>\n",
       "    </tr>\n",
       "    <tr>\n",
       "      <th>50%</th>\n",
       "      <td>5.800000</td>\n",
       "      <td>3.000000</td>\n",
       "      <td>4.350000</td>\n",
       "      <td>1.300000</td>\n",
       "    </tr>\n",
       "    <tr>\n",
       "      <th>75%</th>\n",
       "      <td>6.400000</td>\n",
       "      <td>3.300000</td>\n",
       "      <td>5.100000</td>\n",
       "      <td>1.800000</td>\n",
       "    </tr>\n",
       "    <tr>\n",
       "      <th>max</th>\n",
       "      <td>7.900000</td>\n",
       "      <td>4.400000</td>\n",
       "      <td>6.900000</td>\n",
       "      <td>2.500000</td>\n",
       "    </tr>\n",
       "  </tbody>\n",
       "</table>\n",
       "</div>"
      ],
      "text/plain": [
       "       sepal length (cm)  sepal width (cm)  petal length (cm)  \\\n",
       "count         150.000000        150.000000         150.000000   \n",
       "mean            5.843333          3.057333           3.758000   \n",
       "std             0.828066          0.435866           1.765298   \n",
       "min             4.300000          2.000000           1.000000   \n",
       "25%             5.100000          2.800000           1.600000   \n",
       "50%             5.800000          3.000000           4.350000   \n",
       "75%             6.400000          3.300000           5.100000   \n",
       "max             7.900000          4.400000           6.900000   \n",
       "\n",
       "       petal width (cm)  \n",
       "count        150.000000  \n",
       "mean           1.199333  \n",
       "std            0.762238  \n",
       "min            0.100000  \n",
       "25%            0.300000  \n",
       "50%            1.300000  \n",
       "75%            1.800000  \n",
       "max            2.500000  "
      ]
     },
     "execution_count": 29,
     "metadata": {},
     "output_type": "execute_result"
    }
   ],
   "source": [
    "# Descriptive statistics of dataset\n",
    "petal_df.describe()"
   ]
  },
  {
   "cell_type": "code",
   "execution_count": 30,
   "id": "e50e711f-3d94-4286-baab-2b950383600e",
   "metadata": {},
   "outputs": [
    {
     "name": "stdout",
     "output_type": "stream",
     "text": [
      "<class 'pandas.core.frame.DataFrame'>\n",
      "RangeIndex: 150 entries, 0 to 149\n",
      "Data columns (total 4 columns):\n",
      " #   Column             Non-Null Count  Dtype  \n",
      "---  ------             --------------  -----  \n",
      " 0   sepal length (cm)  150 non-null    float64\n",
      " 1   sepal width (cm)   150 non-null    float64\n",
      " 2   petal length (cm)  150 non-null    float64\n",
      " 3   petal width (cm)   150 non-null    float64\n",
      "dtypes: float64(4)\n",
      "memory usage: 4.8 KB\n"
     ]
    }
   ],
   "source": [
    "# DF Summary\n",
    "petal_df.info()"
   ]
  },
  {
   "cell_type": "code",
   "execution_count": 34,
   "id": "8c880e10-1b24-433b-b0e6-e69e164b2dce",
   "metadata": {},
   "outputs": [
    {
     "name": "stderr",
     "output_type": "stream",
     "text": [
      "<ipython-input-34-642f8ca08308>:3: UserWarning: ignore\n",
      "  warnings.warn(\"ignore\")\n",
      "/Users/jackiepezan/opt/anaconda3/lib/python3.8/site-packages/seaborn/distributions.py:306: UserWarning: Dataset has 0 variance; skipping density estimate.\n",
      "  warnings.warn(msg, UserWarning)\n",
      "/Users/jackiepezan/opt/anaconda3/lib/python3.8/site-packages/seaborn/distributions.py:306: UserWarning: Dataset has 0 variance; skipping density estimate.\n",
      "  warnings.warn(msg, UserWarning)\n",
      "/Users/jackiepezan/opt/anaconda3/lib/python3.8/site-packages/seaborn/distributions.py:306: UserWarning: Dataset has 0 variance; skipping density estimate.\n",
      "  warnings.warn(msg, UserWarning)\n",
      "/Users/jackiepezan/opt/anaconda3/lib/python3.8/site-packages/seaborn/distributions.py:306: UserWarning: Dataset has 0 variance; skipping density estimate.\n",
      "  warnings.warn(msg, UserWarning)\n",
      "/Users/jackiepezan/opt/anaconda3/lib/python3.8/site-packages/seaborn/distributions.py:306: UserWarning: Dataset has 0 variance; skipping density estimate.\n",
      "  warnings.warn(msg, UserWarning)\n",
      "/Users/jackiepezan/opt/anaconda3/lib/python3.8/site-packages/seaborn/distributions.py:306: UserWarning: Dataset has 0 variance; skipping density estimate.\n",
      "  warnings.warn(msg, UserWarning)\n",
      "/Users/jackiepezan/opt/anaconda3/lib/python3.8/site-packages/seaborn/distributions.py:306: UserWarning: Dataset has 0 variance; skipping density estimate.\n",
      "  warnings.warn(msg, UserWarning)\n",
      "/Users/jackiepezan/opt/anaconda3/lib/python3.8/site-packages/seaborn/distributions.py:306: UserWarning: Dataset has 0 variance; skipping density estimate.\n",
      "  warnings.warn(msg, UserWarning)\n",
      "/Users/jackiepezan/opt/anaconda3/lib/python3.8/site-packages/seaborn/distributions.py:306: UserWarning: Dataset has 0 variance; skipping density estimate.\n",
      "  warnings.warn(msg, UserWarning)\n",
      "/Users/jackiepezan/opt/anaconda3/lib/python3.8/site-packages/seaborn/distributions.py:306: UserWarning: Dataset has 0 variance; skipping density estimate.\n",
      "  warnings.warn(msg, UserWarning)\n",
      "/Users/jackiepezan/opt/anaconda3/lib/python3.8/site-packages/seaborn/distributions.py:306: UserWarning: Dataset has 0 variance; skipping density estimate.\n",
      "  warnings.warn(msg, UserWarning)\n",
      "/Users/jackiepezan/opt/anaconda3/lib/python3.8/site-packages/seaborn/distributions.py:306: UserWarning: Dataset has 0 variance; skipping density estimate.\n",
      "  warnings.warn(msg, UserWarning)\n",
      "/Users/jackiepezan/opt/anaconda3/lib/python3.8/site-packages/seaborn/distributions.py:306: UserWarning: Dataset has 0 variance; skipping density estimate.\n",
      "  warnings.warn(msg, UserWarning)\n",
      "/Users/jackiepezan/opt/anaconda3/lib/python3.8/site-packages/seaborn/distributions.py:306: UserWarning: Dataset has 0 variance; skipping density estimate.\n",
      "  warnings.warn(msg, UserWarning)\n",
      "/Users/jackiepezan/opt/anaconda3/lib/python3.8/site-packages/seaborn/distributions.py:306: UserWarning: Dataset has 0 variance; skipping density estimate.\n",
      "  warnings.warn(msg, UserWarning)\n",
      "/Users/jackiepezan/opt/anaconda3/lib/python3.8/site-packages/seaborn/distributions.py:306: UserWarning: Dataset has 0 variance; skipping density estimate.\n",
      "  warnings.warn(msg, UserWarning)\n",
      "/Users/jackiepezan/opt/anaconda3/lib/python3.8/site-packages/seaborn/distributions.py:306: UserWarning: Dataset has 0 variance; skipping density estimate.\n",
      "  warnings.warn(msg, UserWarning)\n",
      "/Users/jackiepezan/opt/anaconda3/lib/python3.8/site-packages/seaborn/distributions.py:306: UserWarning: Dataset has 0 variance; skipping density estimate.\n",
      "  warnings.warn(msg, UserWarning)\n",
      "/Users/jackiepezan/opt/anaconda3/lib/python3.8/site-packages/seaborn/distributions.py:306: UserWarning: Dataset has 0 variance; skipping density estimate.\n",
      "  warnings.warn(msg, UserWarning)\n",
      "/Users/jackiepezan/opt/anaconda3/lib/python3.8/site-packages/seaborn/distributions.py:306: UserWarning: Dataset has 0 variance; skipping density estimate.\n",
      "  warnings.warn(msg, UserWarning)\n",
      "/Users/jackiepezan/opt/anaconda3/lib/python3.8/site-packages/seaborn/distributions.py:306: UserWarning: Dataset has 0 variance; skipping density estimate.\n",
      "  warnings.warn(msg, UserWarning)\n",
      "/Users/jackiepezan/opt/anaconda3/lib/python3.8/site-packages/seaborn/distributions.py:306: UserWarning: Dataset has 0 variance; skipping density estimate.\n",
      "  warnings.warn(msg, UserWarning)\n",
      "/Users/jackiepezan/opt/anaconda3/lib/python3.8/site-packages/seaborn/distributions.py:306: UserWarning: Dataset has 0 variance; skipping density estimate.\n",
      "  warnings.warn(msg, UserWarning)\n",
      "/Users/jackiepezan/opt/anaconda3/lib/python3.8/site-packages/seaborn/distributions.py:306: UserWarning: Dataset has 0 variance; skipping density estimate.\n",
      "  warnings.warn(msg, UserWarning)\n",
      "/Users/jackiepezan/opt/anaconda3/lib/python3.8/site-packages/seaborn/distributions.py:306: UserWarning: Dataset has 0 variance; skipping density estimate.\n",
      "  warnings.warn(msg, UserWarning)\n",
      "/Users/jackiepezan/opt/anaconda3/lib/python3.8/site-packages/seaborn/distributions.py:306: UserWarning: Dataset has 0 variance; skipping density estimate.\n",
      "  warnings.warn(msg, UserWarning)\n",
      "/Users/jackiepezan/opt/anaconda3/lib/python3.8/site-packages/seaborn/distributions.py:306: UserWarning: Dataset has 0 variance; skipping density estimate.\n",
      "  warnings.warn(msg, UserWarning)\n",
      "/Users/jackiepezan/opt/anaconda3/lib/python3.8/site-packages/seaborn/distributions.py:306: UserWarning: Dataset has 0 variance; skipping density estimate.\n",
      "  warnings.warn(msg, UserWarning)\n",
      "/Users/jackiepezan/opt/anaconda3/lib/python3.8/site-packages/seaborn/distributions.py:306: UserWarning: Dataset has 0 variance; skipping density estimate.\n",
      "  warnings.warn(msg, UserWarning)\n",
      "/Users/jackiepezan/opt/anaconda3/lib/python3.8/site-packages/seaborn/distributions.py:306: UserWarning: Dataset has 0 variance; skipping density estimate.\n",
      "  warnings.warn(msg, UserWarning)\n",
      "/Users/jackiepezan/opt/anaconda3/lib/python3.8/site-packages/seaborn/distributions.py:306: UserWarning: Dataset has 0 variance; skipping density estimate.\n",
      "  warnings.warn(msg, UserWarning)\n",
      "/Users/jackiepezan/opt/anaconda3/lib/python3.8/site-packages/seaborn/distributions.py:306: UserWarning: Dataset has 0 variance; skipping density estimate.\n",
      "  warnings.warn(msg, UserWarning)\n",
      "/Users/jackiepezan/opt/anaconda3/lib/python3.8/site-packages/seaborn/distributions.py:306: UserWarning: Dataset has 0 variance; skipping density estimate.\n",
      "  warnings.warn(msg, UserWarning)\n",
      "/Users/jackiepezan/opt/anaconda3/lib/python3.8/site-packages/seaborn/distributions.py:306: UserWarning: Dataset has 0 variance; skipping density estimate.\n",
      "  warnings.warn(msg, UserWarning)\n",
      "/Users/jackiepezan/opt/anaconda3/lib/python3.8/site-packages/seaborn/distributions.py:306: UserWarning: Dataset has 0 variance; skipping density estimate.\n",
      "  warnings.warn(msg, UserWarning)\n",
      "/Users/jackiepezan/opt/anaconda3/lib/python3.8/site-packages/seaborn/distributions.py:306: UserWarning: Dataset has 0 variance; skipping density estimate.\n",
      "  warnings.warn(msg, UserWarning)\n",
      "/Users/jackiepezan/opt/anaconda3/lib/python3.8/site-packages/seaborn/distributions.py:306: UserWarning: Dataset has 0 variance; skipping density estimate.\n",
      "  warnings.warn(msg, UserWarning)\n",
      "/Users/jackiepezan/opt/anaconda3/lib/python3.8/site-packages/seaborn/distributions.py:306: UserWarning: Dataset has 0 variance; skipping density estimate.\n",
      "  warnings.warn(msg, UserWarning)\n"
     ]
    },
    {
     "data": {
      "text/plain": [
       "<seaborn.axisgrid.PairGrid at 0x7fbd0f7a95e0>"
      ]
     },
     "execution_count": 34,
     "metadata": {},
     "output_type": "execute_result"
    },
    {
     "data": {
      "image/png": "[encoded data removed]",
      "text/plain": [
       "<Figure size 634.375x540 with 12 Axes>"
      ]
     },
     "metadata": {
      "needs_background": "light"
     },
     "output_type": "display_data"
    }
   ],
   "source": [
    "#Ignore warnings\n",
    "import warnings\n",
    "warnings.warn(\"ignore\")\n",
    "\n",
    "# Summary Plots\n",
    "sns.pairplot(petal_df, hue= 'petal length (cm)')"
   ]
  },
  {
   "cell_type": "code",
   "execution_count": 35,
   "id": "03ef2c52-95bf-4f8f-9a03-100c114d22b6",
   "metadata": {},
   "outputs": [
    {
     "data": {
      "text/html": [
       "<div>\n",
       "<style scoped>\n",
       "    .dataframe tbody tr th:only-of-type {\n",
       "        vertical-align: middle;\n",
       "    }\n",
       "\n",
       "    .dataframe tbody tr th {\n",
       "        vertical-align: top;\n",
       "    }\n",
       "\n",
       "    .dataframe thead th {\n",
       "        text-align: right;\n",
       "    }\n",
       "</style>\n",
       "<table border=\"1\" class=\"dataframe\">\n",
       "  <thead>\n",
       "    <tr style=\"text-align: right;\">\n",
       "      <th></th>\n",
       "      <th>sepal length (cm)</th>\n",
       "      <th>sepal width (cm)</th>\n",
       "      <th>petal length (cm)</th>\n",
       "      <th>petal width (cm)</th>\n",
       "      <th>species</th>\n",
       "    </tr>\n",
       "  </thead>\n",
       "  <tbody>\n",
       "    <tr>\n",
       "      <th>0</th>\n",
       "      <td>5.1</td>\n",
       "      <td>3.5</td>\n",
       "      <td>1.4</td>\n",
       "      <td>0.2</td>\n",
       "      <td>setosa</td>\n",
       "    </tr>\n",
       "    <tr>\n",
       "      <th>1</th>\n",
       "      <td>4.9</td>\n",
       "      <td>3.0</td>\n",
       "      <td>1.4</td>\n",
       "      <td>0.2</td>\n",
       "      <td>setosa</td>\n",
       "    </tr>\n",
       "    <tr>\n",
       "      <th>2</th>\n",
       "      <td>4.7</td>\n",
       "      <td>3.2</td>\n",
       "      <td>1.3</td>\n",
       "      <td>0.2</td>\n",
       "      <td>setosa</td>\n",
       "    </tr>\n",
       "    <tr>\n",
       "      <th>3</th>\n",
       "      <td>4.6</td>\n",
       "      <td>3.1</td>\n",
       "      <td>1.5</td>\n",
       "      <td>0.2</td>\n",
       "      <td>setosa</td>\n",
       "    </tr>\n",
       "    <tr>\n",
       "      <th>4</th>\n",
       "      <td>5.0</td>\n",
       "      <td>3.6</td>\n",
       "      <td>1.4</td>\n",
       "      <td>0.2</td>\n",
       "      <td>setosa</td>\n",
       "    </tr>\n",
       "    <tr>\n",
       "      <th>...</th>\n",
       "      <td>...</td>\n",
       "      <td>...</td>\n",
       "      <td>...</td>\n",
       "      <td>...</td>\n",
       "      <td>...</td>\n",
       "    </tr>\n",
       "    <tr>\n",
       "      <th>145</th>\n",
       "      <td>6.7</td>\n",
       "      <td>3.0</td>\n",
       "      <td>5.2</td>\n",
       "      <td>2.3</td>\n",
       "      <td>virginica</td>\n",
       "    </tr>\n",
       "    <tr>\n",
       "      <th>146</th>\n",
       "      <td>6.3</td>\n",
       "      <td>2.5</td>\n",
       "      <td>5.0</td>\n",
       "      <td>1.9</td>\n",
       "      <td>virginica</td>\n",
       "    </tr>\n",
       "    <tr>\n",
       "      <th>147</th>\n",
       "      <td>6.5</td>\n",
       "      <td>3.0</td>\n",
       "      <td>5.2</td>\n",
       "      <td>2.0</td>\n",
       "      <td>virginica</td>\n",
       "    </tr>\n",
       "    <tr>\n",
       "      <th>148</th>\n",
       "      <td>6.2</td>\n",
       "      <td>3.4</td>\n",
       "      <td>5.4</td>\n",
       "      <td>2.3</td>\n",
       "      <td>virginica</td>\n",
       "    </tr>\n",
       "    <tr>\n",
       "      <th>149</th>\n",
       "      <td>5.9</td>\n",
       "      <td>3.0</td>\n",
       "      <td>5.1</td>\n",
       "      <td>1.8</td>\n",
       "      <td>virginica</td>\n",
       "    </tr>\n",
       "  </tbody>\n",
       "</table>\n",
       "<p>150 rows × 5 columns</p>\n",
       "</div>"
      ],
      "text/plain": [
       "     sepal length (cm)  sepal width (cm)  petal length (cm)  petal width (cm)  \\\n",
       "0                  5.1               3.5                1.4               0.2   \n",
       "1                  4.9               3.0                1.4               0.2   \n",
       "2                  4.7               3.2                1.3               0.2   \n",
       "3                  4.6               3.1                1.5               0.2   \n",
       "4                  5.0               3.6                1.4               0.2   \n",
       "..                 ...               ...                ...               ...   \n",
       "145                6.7               3.0                5.2               2.3   \n",
       "146                6.3               2.5                5.0               1.9   \n",
       "147                6.5               3.0                5.2               2.0   \n",
       "148                6.2               3.4                5.4               2.3   \n",
       "149                5.9               3.0                5.1               1.8   \n",
       "\n",
       "       species  \n",
       "0       setosa  \n",
       "1       setosa  \n",
       "2       setosa  \n",
       "3       setosa  \n",
       "4       setosa  \n",
       "..         ...  \n",
       "145  virginica  \n",
       "146  virginica  \n",
       "147  virginica  \n",
       "148  virginica  \n",
       "149  virginica  \n",
       "\n",
       "[150 rows x 5 columns]"
      ]
     },
     "execution_count": 35,
     "metadata": {},
     "output_type": "execute_result"
    }
   ],
   "source": [
    "# Assigning str value to species in DF\n",
    "main_df = pd.DataFrame(data= data_df.target, columns= ['species'])\n",
    "def converter(species):\n",
    "    if species == 0:\n",
    "        return 'setosa'\n",
    "    elif species == 1:\n",
    "        return 'versicolor'\n",
    "    else:\n",
    "        return 'virginica'\n",
    "main_df['species'] = main_df['species'].apply(converter)\n",
    "\n",
    "# Combine DF using concatenate function\n",
    "petal_df = pd.concat([petal_df, main_df], axis= 1)\n",
    "petal_df"
   ]
  },
  {
   "cell_type": "code",
   "execution_count": 36,
   "id": "c54ec28f-c116-4a45-bb83-0bc887bd6e9e",
   "metadata": {},
   "outputs": [
    {
     "name": "stdout",
     "output_type": "stream",
     "text": [
      "<class 'pandas.core.frame.DataFrame'>\n",
      "RangeIndex: 150 entries, 0 to 149\n",
      "Data columns (total 5 columns):\n",
      " #   Column             Non-Null Count  Dtype  \n",
      "---  ------             --------------  -----  \n",
      " 0   sepal length (cm)  150 non-null    float64\n",
      " 1   sepal width (cm)   150 non-null    float64\n",
      " 2   petal length (cm)  150 non-null    float64\n",
      " 3   petal width (cm)   150 non-null    float64\n",
      " 4   species            150 non-null    object \n",
      "dtypes: float64(4), object(1)\n",
      "memory usage: 6.0+ KB\n"
     ]
    }
   ],
   "source": [
    "petal_df.info()"
   ]
  },
  {
   "cell_type": "code",
   "execution_count": 37,
   "id": "42d37142-03b3-413d-8e1f-6ce8e8d09d21",
   "metadata": {},
   "outputs": [],
   "source": [
    "# Species (object - str) to float (number)\n",
    "petal_df.drop('species', axis= 1, inplace= True)\n",
    "main_df = pd.DataFrame(data= data_df.target, columns= ['species'])\n",
    "petal_df = pd.concat([petal_df, main_df], axis= 1)"
   ]
  },
  {
   "cell_type": "code",
   "execution_count": 38,
   "id": "06117216-74df-40ee-8832-b6659500cfb4",
   "metadata": {},
   "outputs": [],
   "source": [
    "# New train/test variables\n",
    "X= petal_df.drop(labels= ['petal length (cm)'], axis= 1)\n",
    "y= petal_df['petal length (cm)']"
   ]
  },
  {
   "cell_type": "code",
   "execution_count": 39,
   "id": "e31cf6a3-5579-4da7-9fcd-7874599f3e5b",
   "metadata": {},
   "outputs": [
    {
     "name": "stdout",
     "output_type": "stream",
     "text": [
      "80 % of Train Data Size : 135 and Data Size of Training Labels : 135\n",
      "\n",
      "20 % of Test Data Size : 15 and Data Size of Testing Labels : 15\n"
     ]
    }
   ],
   "source": [
    "# Splitting the Dataset \n",
    "X_train, X_test, y_train, y_test = train_test_split(X, y, test_size= 0.10)\n",
    "\n",
    "# Dataset Results\n",
    "print(f\"80 % of Train Data Size : {len(X_train)} and Data Size of Training Labels : {len(y_train)}\")\n",
    "print()\n",
    "print(f\"20 % of Test Data Size : {len(X_test)} and Data Size of Testing Labels : {len(y_test)}\")"
   ]
  },
  {
   "cell_type": "code",
   "execution_count": 40,
   "id": "4d709739-2f0b-4b3d-a912-149884883f8d",
   "metadata": {},
   "outputs": [],
   "source": [
    "# Linear Regression\n",
    "lr = LinearRegression()\n",
    "\n",
    "# Train the model\n",
    "lr.fit(X_train, y_train)\n",
    "\n",
    "# Testing model predictions\n",
    "model_predict = lr.predict(X_test)"
   ]
  },
  {
   "cell_type": "code",
   "execution_count": 41,
   "id": "67a97737-1144-43f7-b9fe-26df7654fd68",
   "metadata": {},
   "outputs": [
    {
     "name": "stdout",
     "output_type": "stream",
     "text": [
      "Mean Squared Error = 0.09937855454706045\n",
      "Model Score = 0.9678843864571288\n"
     ]
    }
   ],
   "source": [
    "# Model performance\n",
    "print('Mean Squared Error =', mean_squared_error(y_test, model_predict))\n",
    "print ('Model Score =', lr.score(X_test, y_test))"
   ]
  },
  {
   "cell_type": "markdown",
   "id": "cedd99d2-bf45-4a1f-a458-476660c48c81",
   "metadata": {},
   "source": [
    "## Check Work"
   ]
  },
  {
   "cell_type": "code",
   "execution_count": 43,
   "id": "9d2f5139-9f99-42d8-9636-e119a71a6ed7",
   "metadata": {},
   "outputs": [
    {
     "data": {
      "text/plain": [
       "sepal length (cm)    5.1\n",
       "sepal width (cm)     3.5\n",
       "petal length (cm)    1.4\n",
       "petal width (cm)     0.2\n",
       "species              0.0\n",
       "Name: 0, dtype: float64"
      ]
     },
     "execution_count": 43,
     "metadata": {},
     "output_type": "execute_result"
    }
   ],
   "source": [
    "petal_df.loc[0]"
   ]
  },
  {
   "cell_type": "code",
   "execution_count": 44,
   "id": "e5c83cb3-d745-4799-884d-a1f84b99f01e",
   "metadata": {},
   "outputs": [
    {
     "data": {
      "text/html": [
       "<div>\n",
       "<style scoped>\n",
       "    .dataframe tbody tr th:only-of-type {\n",
       "        vertical-align: middle;\n",
       "    }\n",
       "\n",
       "    .dataframe tbody tr th {\n",
       "        vertical-align: top;\n",
       "    }\n",
       "\n",
       "    .dataframe thead th {\n",
       "        text-align: right;\n",
       "    }\n",
       "</style>\n",
       "<table border=\"1\" class=\"dataframe\">\n",
       "  <thead>\n",
       "    <tr style=\"text-align: right;\">\n",
       "      <th></th>\n",
       "      <th>sepal length (cm)</th>\n",
       "      <th>sepal width (cm)</th>\n",
       "      <th>petal length (cm)</th>\n",
       "      <th>petal width (cm)</th>\n",
       "      <th>species</th>\n",
       "    </tr>\n",
       "  </thead>\n",
       "  <tbody>\n",
       "    <tr>\n",
       "      <th>0</th>\n",
       "      <td>5.1</td>\n",
       "      <td>3.5</td>\n",
       "      <td>1.4</td>\n",
       "      <td>0.2</td>\n",
       "      <td>0</td>\n",
       "    </tr>\n",
       "  </tbody>\n",
       "</table>\n",
       "</div>"
      ],
      "text/plain": [
       "   sepal length (cm)  sepal width (cm)  petal length (cm)  petal width (cm)  \\\n",
       "0                5.1               3.5                1.4               0.2   \n",
       "\n",
       "   species  \n",
       "0        0  "
      ]
     },
     "execution_count": 44,
     "metadata": {},
     "output_type": "execute_result"
    }
   ],
   "source": [
    "input_values = {'sepal length (cm)' : [5.1],\n",
    "    'sepal width (cm)' : [3.5],\n",
    "    'petal length (cm)' : [1.4],\n",
    "    'petal width (cm)' : [0.2],\n",
    "    'species' : 0}\n",
    "test_df = pd.DataFrame(data= input_values)\n",
    "test_df "
   ]
  },
  {
   "cell_type": "code",
   "execution_count": 53,
   "id": "ff1be64a-ea81-4269-9a3f-ac5338ec3407",
   "metadata": {},
   "outputs": [
    {
     "name": "stdout",
     "output_type": "stream",
     "text": [
      "Predicted Petal Length (cm): 1.4992462987815423\n",
      "Actual Petal Length (cm): 1.4\n"
     ]
    }
   ],
   "source": [
    "model_predict = lr.predict(X_test)\n",
    "print('Predicted Petal Length (cm):', model_predict[0])\n",
    "print('Actual Petal Length (cm):', 1.4)"
   ]
  },
  {
   "cell_type": "markdown",
   "id": "6639af1e-1f58-4092-b5b6-c04244e4080c",
   "metadata": {},
   "source": [
    "Conclusion: There is a 0.099 cm discrepancy between values. For the example above the predicted petal lenght for an Iris Setosa flower was witin the mse of the actual value. "
   ]
  },
  {
   "cell_type": "markdown",
   "id": "3526fdf0-9fda-473d-9d48-23f72cc89c88",
   "metadata": {},
   "source": [
    "Resources for final model: \n",
    "    https://www.tutorialspoint.com/python/python_if_else.html\n",
    "    https://datascience.stackexchange.com/questions/20582/concatenate-dataframes-pandas\n",
    "    https://www.w3schools.com/python/python_ml_linear_regression.asp\n",
    "    https://www.kdnuggets.com/2019/03/beginners-guide-linear-regression-python-scikit-learn.html\n",
    "    https://seaborn.pydata.org/generated/seaborn.pairplot.html"
   ]
  }
 ],
 "metadata": {
  "kernelspec": {
   "display_name": "Python 3",
   "language": "python",
   "name": "python3"
  },
  "language_info": {
   "codemirror_mode": {
    "name": "ipython",
    "version": 3
   },
   "file_extension": ".py",
   "mimetype": "text/x-python",
   "name": "python",
   "nbconvert_exporter": "python",
   "pygments_lexer": "ipython3",
   "version": "3.8.8"
  }
 },
 "nbformat": 4,
 "nbformat_minor": 5
}
